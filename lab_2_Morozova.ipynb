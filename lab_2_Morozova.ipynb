{
 "cells": [
  {
   "cell_type": "markdown",
   "id": "c1083e5f-1658-41fa-ac38-bab2def83360",
   "metadata": {},
   "source": [
    "# Лабораторна робота №3. Аналіз складності алгоритмів. Алгоритми сортування"
   ]
  },
  {
   "cell_type": "markdown",
   "id": "b4cad8f9-3afc-4aa8-a1f2-e9a39de95699",
   "metadata": {},
   "source": [
    "### Тема. Налагоджування та робота в середовищі Anaconda+Quarto"
   ]
  },
  {
   "cell_type": "markdown",
   "id": "d1839994-78c1-48e8-b4be-77fc62420fe1",
   "metadata": {},
   "source": [
    "### Мета: швидкий старт для роботи в середовищі Anaconda із застосуванням \n",
    "Jupyter Notebook, або Jupyter Notebook засобами мови програмування Python т \r\n",
    "видавничої системи Quarto."
   ]
  },
  {
   "cell_type": "markdown",
   "id": "2991afb8-1162-46aa-bdf1-1aeebf26fd53",
   "metadata": {},
   "source": [
    "САМОСТІЙНА РОБОТА"
   ]
  },
  {
   "cell_type": "markdown",
   "id": "fdd4a691-0e1d-49d3-9625-23c1bf1fd27b",
   "metadata": {},
   "source": [
    "1. Завантажила і встановила збірку Python Anaconda."
   ]
  },
  {
   "cell_type": "markdown",
   "id": "825e66cb-5cec-4f84-aa89-c6f0215eed90",
   "metadata": {},
   "source": [
    "2. Через інтерфейс командного рядка налагодити за допомогою conda\r\n",
    "віртуальне середовище з ім’ям <StudentLastName>_OpenCV. Етапи роботи\r\n",
    "підтвердити скріншотами."
   ]
  },
  {
   "attachments": {},
   "cell_type": "markdown",
   "id": "23ffe1a5-1aa2-4b25-b539-3d463335b118",
   "metadata": {},
   "source": [
    "<img src='2_2.png' width=320, heigth=240>"
   ]
  },
  {
   "cell_type": "markdown",
   "id": "d2922d12-380b-4ed7-8514-a2bd4fd9d19a",
   "metadata": {},
   "source": [
    "3. Проінсталювати у створене середовище пакети, необхідні для роботи з\n",
    "OpenCV."
   ]
  },
  {
   "cell_type": "markdown",
   "id": "0e5b2df1-eb30-4aea-b7d1-c9e5eea4b60c",
   "metadata": {},
   "source": [
    "<img src='2_3.png' width=320, heigth=240>"
   ]
  },
  {
   "cell_type": "markdown",
   "id": "94450011-bf55-422f-875e-184ae558cb50",
   "metadata": {},
   "source": [
    "Створити Notebook-документ <lab_2_StudentLastName> за допомогою\n",
    "Jupyter Notebook, або Jupyter Lab."
   ]
  }
 ],
 "metadata": {
  "kernelspec": {
   "display_name": "Python 3 (ipykernel)",
   "language": "python",
   "name": "python3"
  },
  "language_info": {
   "codemirror_mode": {
    "name": "ipython",
    "version": 3
   },
   "file_extension": ".py",
   "mimetype": "text/x-python",
   "name": "python",
   "nbconvert_exporter": "python",
   "pygments_lexer": "ipython3",
   "version": "3.11.7"
  }
 },
 "nbformat": 4,
 "nbformat_minor": 5
}
